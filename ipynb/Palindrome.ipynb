{
 "cells": [
  {
   "cell_type": "markdown",
   "metadata": {},
   "source": [
    "# Panama Palindrome\n",
    "\n",
    "## Utilities"
   ]
  },
  {
   "cell_type": "code",
   "execution_count": 39,
   "metadata": {
    "collapsed": false
   },
   "outputs": [],
   "source": [
    "import random, re, bisect, time\n",
    "\n",
    "def is_palindrome(s):\n",
    "    \"Test if a string is a palindrome (only considering letters a-z).\"\n",
    "    pass\n",
    "def is_unique_palindrome(s):\n",
    "    \"Test if string s is a palindrome where each comma-separated phrase is unique.\"\n",
    "    return is_palindrome(s) and is_unique(phrases(s))\n",
    "\n",
    "def canonical(word, sub=re.compile('[^a-z]').sub):\n",
    "    \"The canonical form for comparing: only lowercase a-z.\"\n",
    "    pass\n",
    "def phrases(s):\n",
    "    \"Break a string s into comma-separated phrases.\"\n",
    "    return [phrase.strip() for phrase in s.split(',')]\n",
    "\n",
    "def reversestr(s):\n",
    "    \"Reverse a string.\"\n",
    "    pass\n",
    "def is_unique(collection):\n",
    "    \"Return true if collection has no duplicate elements.\"\n",
    "    return len(collection) == len(set(collection))"
   ]
  },
  {
   "cell_type": "code",
   "execution_count": 35,
   "metadata": {
    "collapsed": false
   },
   "outputs": [
    {
     "data": {
      "text/plain": [
       "'test_utils passes'"
      ]
     },
     "execution_count": 35,
     "metadata": {},
     "output_type": "execute_result"
    }
   ],
   "source": [
    "def test_utils():\n",
    "    pass\n",
    "test_utils()"
   ]
  },
  {
   "cell_type": "markdown",
   "metadata": {},
   "source": [
    "## The Dictionary"
   ]
  },
  {
   "cell_type": "code",
   "execution_count": 6,
   "metadata": {
    "collapsed": false
   },
   "outputs": [],
   "source": [
    "! [ -e npdict.txt ] || curl -O http://norvig.com/npdict.txt"
   ]
  },
  {
   "cell_type": "code",
   "execution_count": 7,
   "metadata": {
    "collapsed": false
   },
   "outputs": [
    {
     "name": "stdout",
     "output_type": "stream",
     "text": [
      "  126144  204928 1383045 npdict.txt\r\n"
     ]
    }
   ],
   "source": [
    "! wc npdict.txt"
   ]
  },
  {
   "cell_type": "code",
   "execution_count": 45,
   "metadata": {
    "collapsed": false
   },
   "outputs": [],
   "source": [
    "################ Reading in a dictionary\n",
    "\n",
    "class PalDict:\n",
    "    \"\"\"A dictionary with the following fields:\n",
    "    words: a sorted list of words: ['ant', 'bee', 'sea']\n",
    "    rwords: a sorted list of reversed words: ['aes', 'eeb', 'tna']\n",
    "    truename: a dict of {canonical:true} pairs, e.g. {'anelk': 'an elk', 'anneelk': 'Anne Elk'}\n",
    "    k:\n",
    "    and the followng methods:\n",
    "    \"\"\"\n",
    "    \n",
    "    def __init__(self, k=100, filename='npdict.txt'):\n",
    "    pass\n",
    "paldict = PalDict() \n",
    "\n",
    "def anpdictshort():\n",
    "    \"Find the words that are valid when every phrase must start with 'a'\"\n",
    "    pass\n",
    "class Panama:\n",
    "    def __init__(self, L='A man, a plan', R='a canal, Panama', dict=paldict):\n",
    "    pass\n",
    "factor = {'left': +1, 'right': -1}\n",
    "\n",
    "# Note that we only allow one truename per canonical name.  Occasionally\n",
    "# this means we miss a good word (as in \"a node\" vs. \"an ode\"), but there\n",
    "# are only 665 of these truename collisions, and most of them are of the\n",
    "# form \"a mark-up\" vs. \"a markup\" so it seemed better to disallow them.\n"
   ]
  },
  {
   "cell_type": "code",
   "execution_count": 30,
   "metadata": {
    "collapsed": false
   },
   "outputs": [
    {
     "data": {
      "text/plain": [
       "126144"
      ]
     },
     "execution_count": 30,
     "metadata": {},
     "output_type": "execute_result"
    }
   ],
   "source": [
    "len(paldict.words)"
   ]
  },
  {
   "cell_type": "code",
   "execution_count": 46,
   "metadata": {
    "collapsed": false
   },
   "outputs": [
    {
     "name": "stdout",
     "output_type": "stream",
     "text": [
      "all tests pass\n",
      " 1005 phrases ( 1239 words) in   0 seconds ( 18582 steps)\n",
      " 2012 phrases ( 2478 words) in   0 seconds ( 41886 steps)\n",
      " 3017 phrases ( 3710 words) in   0 seconds ( 64444 steps)\n",
      " 4020 phrases ( 4957 words) in   0 seconds ( 92989 steps)\n",
      " 5022 phrases ( 6184 words) in   1 seconds (128986 steps)\n",
      " 6024 phrases ( 7408 words) in   1 seconds (162634 steps)\n",
      " 7027 phrases ( 8607 words) in   1 seconds (204639 steps)\n",
      " 8036 phrases ( 9846 words) in   2 seconds (254992 steps)\n",
      " 9037 phrases (11050 words) in   2 seconds (320001 steps)\n",
      "10039 phrases (12257 words) in   2 seconds (417723 steps)\n",
      "11040 phrases (13481 words) in   3 seconds (565050 steps)\n",
      "12043 phrases (14711 words) in   4 seconds (887405 steps)\n"
     ]
    },
    {
     "data": {
      "text/plain": [
       "<Panama with 12764 phrases>"
      ]
     },
     "execution_count": 46,
     "metadata": {},
     "output_type": "execute_result"
    }
   ],
   "source": [
    "################ Unit Tests\n",
    " \n",
    "def test2(p=PalDict()):\n",
    "    pass\n",
    "p = Panama()\n",
    "test2(p)\n",
    "p.search().report()\n",
    "p"
   ]
  },
  {
   "cell_type": "code",
   "execution_count": null,
   "metadata": {
    "collapsed": false
   },
   "outputs": [],
   "source": []
  },
  {
   "cell_type": "code",
   "execution_count": 21,
   "metadata": {
    "collapsed": false
   },
   "outputs": [
    {
     "name": "stdout",
     "output_type": "stream",
     "text": [
      "  % Total    % Received % Xferd  Average Speed   Time    Time     Time  Current\n",
      "                                 Dload  Upload   Total   Spent    Left  Speed\n",
      "100  847k  100  847k    0     0  1037k      0 --:--:-- --:--:-- --:--:-- 1037k\n"
     ]
    }
   ],
   "source": [
    "! [ -e anpdict.txt ] || curl -O http://norvig.com/anpdict.txt"
   ]
  },
  {
   "cell_type": "code",
   "execution_count": 26,
   "metadata": {
    "collapsed": false
   },
   "outputs": [],
   "source": [
    "anpdictshort()"
   ]
  },
  {
   "cell_type": "code",
   "execution_count": 27,
   "metadata": {
    "collapsed": false
   },
   "outputs": [
    {
     "name": "stdout",
     "output_type": "stream",
     "text": [
      "    4527    9055   39467 anpdict-short.txt\r\n",
      "    4527    9055   39467 anpdict-short2.txt\r\n",
      "   69241  138489  867706 anpdict.txt\r\n",
      "  126144  204928 1383045 npdict.txt\r\n",
      "  204439  361527 2329685 total\r\n"
     ]
    }
   ],
   "source": [
    "! wc *npd*"
   ]
  },
  {
   "cell_type": "markdown",
   "metadata": {
    "collapsed": true
   },
   "source": [
    "# Letter-By-Letter Approach\n",
    "\n",
    "Can we go letter-by-letter instead of word-by-word? Advantages: \n",
    "\n",
    "* We can (if need be) be exhaustive at each decision point, trying all 26 possibilities.\n",
    "* We can try the most likely letters first.\n",
    "\n",
    "Process\n",
    "\n",
    "* Keep left- nad right- partial phrase lists; and the current state:\n",
    "\n",
    "    {left: ['aman', 'aplan'],  right: ['acanal', panama'],\n",
    "     left_word: True, right_word: True, extra_chars: +3, palindrome: True}\n",
    "     \n",
    "* Now consider all ways of extending:\n",
    "\n",
    "  - Add the letter `'a'` to the left, either as a new word or a continuation of the old word (perhaps going for `'a planaria'`).\n",
    "  - Add a letter, any letter, to the right, either as a new word or a continuation of \n",
    "    \n"
   ]
  },
  {
   "cell_type": "code",
   "execution_count": null,
   "metadata": {
    "collapsed": true
   },
   "outputs": [],
   "source": [
    "from collections import namedtuple\n",
    "\n",
    "\n",
    "def do(state, action, side, L): action(state, side, L)\n",
    "    pass\n",
    "def new(state, side, L): getattr(state, side).append(L)\n",
    "def undo(action, letter):\n",
    "    if action == add:\n",
    "    elif action == new:\n",
    "    else:\n",
    "        raise ValueError()"
   ]
  }
 ],
 "metadata": {
  "kernelspec": {
   "display_name": "Python 3",
   "language": "python",
   "name": "python3"
  },
  "language_info": {
   "codemirror_mode": {
    "name": "ipython",
    "version": 3
   },
   "file_extension": ".py",
   "mimetype": "text/x-python",
   "name": "python",
   "nbconvert_exporter": "python",
   "pygments_lexer": "ipython3",
   "version": "3.5.1"
  }
 },
 "nbformat": 4,
 "nbformat_minor": 0
}
