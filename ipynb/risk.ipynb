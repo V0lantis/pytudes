{
 "cells": [
  {
   "cell_type": "markdown",
   "metadata": {},
   "source": [
    "<div align=\"right\" style=\"text-align: right\"><i>Peter Norvig<br>2012, 2020, 2021</i></div>\n",
    "\n",
    "# The Unfinished Game ... of Risk\n",
    "\n",
    "[Keith Devlin](https://web.stanford.edu/~kdevlin/)'s [book](https://www.amazon.com/Unfinished-Game-Pascal-Fermat-Seventeenth-Century/dp/0465018963) [*The Unfinished Game*](https://wordplay.blogs.nytimes.com/2015/12/14/devlin-unfinished-game/) describes how Fermat and Pascal discovered the rules of probability that guide gambling in games. The question they confronted was: what if a gambling game is interrupted, but one player is in the lead by a certain score. How much of the pot should the leader get?\n",
    "\n",
    "My friends and I faced a similar question when a game of [*Risk*](https://www.ultraboardgames.com/risk/game-rules.php) ran on too long (as they often do) and we were unable to finish. Player **A**  was poised to make a sweeping attack on player **D**, whose territories were arranged in such a way that **A** could attack from one territory to the next without ever having to branch off.  We wrote down the number of **A**'s massed armies, **72**, and the number of armies in **D**'s successive territories: **22, 8, 2, 2, 2, 7, 1, 1, 3, 1, 2, 3, 5, 1.** What is the probability that **A** can capture all these territories?\n",
    "\n",
    "![](https://www.ultraboardgames.com/risk/gfx/board.jpg)\n",
    "\n",
    "______\n",
    "\n",
    "# Terminology\n",
    "\n",
    "Let's explain some *Risk* [rules](https://www.ultraboardgames.com/risk/game-rules.php) and terminology:\n",
    "\n",
    "- A **battle** is when armies from one territory attack an enemy neighboring territory. A roll of dice determines which armies perish:\n",
    "  - The attacker will roll 3 dice if possible (but no more than the number of armies in the attacking territory minus one).\n",
    "  - The defender will roll 2 dice if possible (or only one die if they have only one army defending). \n",
    "  - The **outcome** of the battle is determined by comparing the highest die from each of the two players, with the defender losing an army if the attacker's die is higher, and the attacker losing an army if tied or lower. Then if both sides rolled at least two dice, we do the same comparison with the second highest die on each side. \n",
    "  - When a battle kills off the last defender in a territory, the attackers **occupy** the territory. They must leave behind one army, but can move the rest in.  \n",
    "\n",
    "- A **campaign** consists of a sequence of battles and occupations. In this notebook we will consider only a **chain campaign**, in which attackers invade successive enemy territories in order, always moving all their remaining armies into each captured territory, never branching, and never changing strategy based on the outcome of a battle. The attackers **win** the campaign if they occupy all the territories. The attackers **lose** if there are any remaining defenders and only one remaining attacker, who by rule cannot attack. \n",
    "\n",
    "\n",
    "\n",
    "With that out of the way, we're ready for some Python implementation."
   ]
  },
  {
   "cell_type": "code",
   "execution_count": 1,
   "metadata": {},
   "outputs": [],
   "source": [
    "from typing      import List, Iterable\n",
    "from collections import Counter\n",
    "from functools   import lru_cache\n",
    "import random\n",
    "import itertools\n",
    "import matplotlib.pyplot as plt"
   ]
  },
  {
   "cell_type": "markdown",
   "metadata": {},
   "source": [
    "# Representing the State of a Campaign\n",
    "\n",
    "I will represent the **state of a campaign** as a tuple where the first element is the number of attacking armies, and subsequent elements are the number of defenders in each successive territory. Thus we can represent the start state of our unfinished campaign as follows:"
   ]
  },
  {
   "cell_type": "code",
   "execution_count": 2,
   "metadata": {},
   "outputs": [],
   "source": [
    "State = tuple\n",
    "\n",
    "start = State((72, 22, 8, 2, 2, 2, 7, 1, 1, 3, 1, 2, 3, 5, 1))"
   ]
  },
  {
   "cell_type": "markdown",
   "metadata": {},
   "source": [
    "I'll define the following functions on states: \n",
    "- `A(state)`: the number of attackers in a state.\n",
    "- `D(state)`: the number of defenders in the defender's first territory (or `0` if there are no defenders at all).\n",
    "- `allD(state)`: the tuple of numbers of defenders in each territory.\n",
    "- `update(state, dead)`: a new state reflecting the aftermath of a battle that leads to  `dead` armies, where `dead` is a two-element tuple of (attackers-who-died, defenders-who-died). The attackers will occupy the first territory if all the defenders in the first territory died.  Note that `dead` is a slightly different usage of `State`, counting the number of deaths rather than the number of living armies."
   ]
  },
  {
   "cell_type": "code",
   "execution_count": 3,
   "metadata": {},
   "outputs": [],
   "source": [
    "def A(state)    -> int:   \"Attackers\";       return state[0]\n",
    "    pass\n",
    "def allD(state) -> tuple: \"All defenders\";   return state[1:]\n",
    "\n",
    "Deaths = State # A kind of state where (A, D) means that A attackers and D defenders died\n",
    "\n",
    "def update(state, dead: Deaths) -> State:\n",
    "    \"\"\"Update the `state` of a campaign to reflect the`dead` in a battle.\"\"\"\n",
    "    a, d, ds = A(state) - A(dead), D(state) - D(dead), allD(state)[1:]\n",
    "    if d: # Can't occupy first territory if there are defenders there \n",
    "        return State((a, d, *ds))\n",
    "    else: # Occupy territory, leaving 1 behind\n",
    "        return State((a - 1, *ds))"
   ]
  },
  {
   "cell_type": "code",
   "execution_count": 4,
   "metadata": {},
   "outputs": [
    {
     "data": {
      "text/plain": [
       "72"
      ]
     },
     "execution_count": 4,
     "metadata": {},
     "output_type": "execute_result"
    }
   ],
   "source": [
    "A(start)"
   ]
  },
  {
   "cell_type": "code",
   "execution_count": 5,
   "metadata": {},
   "outputs": [
    {
     "data": {
      "text/plain": [
       "22"
      ]
     },
     "execution_count": 5,
     "metadata": {},
     "output_type": "execute_result"
    }
   ],
   "source": [
    "D(start)"
   ]
  },
  {
   "cell_type": "code",
   "execution_count": 6,
   "metadata": {},
   "outputs": [
    {
     "data": {
      "text/plain": [
       "(22, 8, 2, 2, 2, 7, 1, 1, 3, 1, 2, 3, 5, 1)"
      ]
     },
     "execution_count": 6,
     "metadata": {},
     "output_type": "execute_result"
    }
   ],
   "source": [
    "allD(start)"
   ]
  },
  {
   "cell_type": "markdown",
   "metadata": {},
   "source": [
    "# Rolling the Dice and the Outcome of a Single Battle\n",
    "\n",
    "We'll represent a roll of the dice with a list of integers; for example the attacker might roll `[2, 6, 1]` with three dice. The function `random_roll(n)` gives a random outcome for rolling `n` dice. The function `battle_deaths`, when given the specific sets of dice rolled by attacker and defender in a battle, returns a two-element `State` tuple that gives the number of attackers and defenders who perish in the battle."
   ]
  },
  {
   "cell_type": "code",
   "execution_count": 7,
   "metadata": {},
   "outputs": [],
   "source": [
    "die  = (1, 2, 3, 4, 5, 6)\n",
    "Dice = List[int] # a list of die rolls, like [2, 6, 1]\n",
    "\n",
    "def random_roll(n) -> Dice:\n",
    "    pass\n",
    "def battle_deaths(A_dice: Dice, D_dice: Dice) -> Deaths:\n",
    "    \"\"\"How many (attacker, defender) armies perish as the result of these dice?\"\"\"\n",
    "    dead = Counter('D' if a > d else 'A'\n",
    "                   for a, d in zip(sorted(A_dice, reverse=True), \n",
    "                                   sorted(D_dice, reverse=True)))\n",
    "    return Deaths((dead['A'], dead['D']))"
   ]
  },
  {
   "cell_type": "code",
   "execution_count": 8,
   "metadata": {},
   "outputs": [
    {
     "data": {
      "text/plain": [
       "([5, 5, 4], [5, 1], (1, 1))"
      ]
     },
     "execution_count": 8,
     "metadata": {},
     "output_type": "execute_result"
    }
   ],
   "source": [
    "# Example battle\n",
    "A_dice = random_roll(3)\n",
    "D_dice = random_roll(2)\n",
    "A_dice, D_dice, battle_deaths(A_dice, D_dice)"
   ]
  },
  {
   "cell_type": "markdown",
   "metadata": {},
   "source": [
    "# Monte Carlo Simulation of a Campaign\n",
    "\n",
    "A [**Monte Carlo simulation**](https://en.wikipedia.org/wiki/Monte_Carlo_method) makes random choices at every choice point (here, every dice roll), and reports on the outcome. \n",
    "\n",
    "The function `simulate_campaign` rolls random dice for a battle until we've reached a terminal state where there can be no more battles (either because the defenders have all been defeated, or because the attackers do not have the two armies necessary to launch an attack)."
   ]
  },
  {
   "cell_type": "code",
   "execution_count": 9,
   "metadata": {},
   "outputs": [],
   "source": [
    "def simulate_campaign(state) -> State:\n",
    "    pass\n",
    "def terminal(state) -> bool: \n",
    "    \"\"\"Is the game over?\"\"\"\n",
    "    return A(state) < 2 or not D(state)"
   ]
  },
  {
   "cell_type": "markdown",
   "metadata": {},
   "source": [
    "# Finishing the Unfinished Game (Randomly)\n",
    "\n",
    "**Let's see who wins!**"
   ]
  },
  {
   "cell_type": "code",
   "execution_count": 10,
   "metadata": {},
   "outputs": [
    {
     "data": {
      "text/plain": [
       "(11,)"
      ]
     },
     "execution_count": 10,
     "metadata": {},
     "output_type": "execute_result"
    }
   ],
   "source": [
    "simulate_campaign(start)"
   ]
  },
  {
   "cell_type": "markdown",
   "metadata": {},
   "source": [
    "That final state says that the attackers won—there are 11 attackers and no defenders left. \n",
    "\n",
    "# Predicting the Unfinished Game: Estimating Probabilities\n",
    "\n",
    "But what if we want to know not just who won that one game, but what is the **probability** that the attackers win? Monte Carlo simulation answers that question by repeating a simulation many times and **summarizing** all the final outcomes. The summary is in the form of a **probability distribution**, a mapping of `{outcome_state: probability}` pairs, which I have implemented as `ProbDist`. I implemented `ProbDist` as a subclass of `Counter`, with the restriction that the values are normalized to sum to 1. (I realize that the name  `Counter` suggests integer counts, but that's not a requirement, and `Counter` has a nicer API than `dict`, including  a default value of 0  and the `most_common` method.)"
   ]
  },
  {
   "cell_type": "code",
   "execution_count": 11,
   "metadata": {},
   "outputs": [],
   "source": [
    "class ProbDist(Counter): \n",
    "    \"A Probability Distribution.\"\n",
    "    def __init__(self, *args):\n",
    "        Counter.__init__(self, *args)\n",
    "        total = sum(self.values())\n",
    "        for x in self:\n",
    "            self[x] /= total "
   ]
  },
  {
   "cell_type": "code",
   "execution_count": 12,
   "metadata": {},
   "outputs": [
    {
     "data": {
      "text/plain": [
       "ProbDist({'H': 0.1,\n",
       "          'E': 0.1,\n",
       "          'L': 0.3,\n",
       "          'O': 0.2,\n",
       "          'W': 0.1,\n",
       "          'R': 0.1,\n",
       "          'D': 0.1})"
      ]
     },
     "execution_count": 12,
     "metadata": {},
     "output_type": "execute_result"
    }
   ],
   "source": [
    "ProbDist('HELLOWORLD') # example probability distribution over 10 letters"
   ]
  },
  {
   "cell_type": "markdown",
   "metadata": {},
   "source": [
    "The higher-order function `monte_carlo` works with any random simulation function, calling it `k` times, each time passing in a `start` state, and collecting the `k` outcome states in a `ProbDist`:"
   ]
  },
  {
   "cell_type": "code",
   "execution_count": 13,
   "metadata": {},
   "outputs": [],
   "source": [
    "def monte_carlo(simulation, start, k=1000) -> ProbDist:\n",
    "    \"Call simulation(start) repeatedly (k times) and return a ProbDist of outcomes.\"\n",
    "    return ProbDist(simulation(start) for _ in range(k))"
   ]
  },
  {
   "cell_type": "markdown",
   "metadata": {},
   "source": [
    "Here we run the campaign \n",
    "simulation 10 times and see the summary of outcomes:"
   ]
  },
  {
   "cell_type": "code",
   "execution_count": 14,
   "metadata": {},
   "outputs": [
    {
     "data": {
      "text/plain": [
       "ProbDist({(5,): 0.2,\n",
       "          (8,): 0.2,\n",
       "          (22,): 0.1,\n",
       "          (21,): 0.1,\n",
       "          (11,): 0.1,\n",
       "          (0, 5, 1): 0.1,\n",
       "          (13,): 0.1,\n",
       "          (1, 1, 1): 0.1})"
      ]
     },
     "execution_count": 14,
     "metadata": {},
     "output_type": "execute_result"
    }
   ],
   "source": [
    "monte_carlo(simulate_campaign, start, 10)"
   ]
  },
  {
   "cell_type": "markdown",
   "metadata": {},
   "source": [
    "And here we run it 1,000 times and report the probability that the attackers win:"
   ]
  },
  {
   "cell_type": "code",
   "execution_count": 15,
   "metadata": {},
   "outputs": [],
   "source": [
    "def attacker_win_probability(dist: ProbDist) -> float: \n",
    "    \"\"\"The probability that the attackers win the campaign.\"\"\"\n",
    "    return sum(dist[s] for s in dist if not allD(s))"
   ]
  },
  {
   "cell_type": "code",
   "execution_count": 16,
   "metadata": {},
   "outputs": [
    {
     "data": {
      "text/plain": [
       "0.8190000000000004"
      ]
     },
     "execution_count": 16,
     "metadata": {},
     "output_type": "execute_result"
    }
   ],
   "source": [
    "attacker_win_probability(monte_carlo(simulate_campaign, start, 1000))"
   ]
  },
  {
   "cell_type": "markdown",
   "metadata": {},
   "source": [
    "How accurate is that result? We can run it again and compare:"
   ]
  },
  {
   "cell_type": "code",
   "execution_count": 17,
   "metadata": {},
   "outputs": [
    {
     "data": {
      "text/plain": [
       "0.8130000000000003"
      ]
     },
     "execution_count": 17,
     "metadata": {},
     "output_type": "execute_result"
    }
   ],
   "source": [
    "attacker_win_probability(monte_carlo(simulate_campaign, start))"
   ]
  },
  {
   "cell_type": "markdown",
   "metadata": {},
   "source": [
    "Alernatively, we could  do some math: the standard deviation of the expected value of a [binomial variable](https://www.mathsisfun.com/data/binomial-distribution.html) is $\\sqrt{p(1-p)/n}$, where $p$ is the true probability of one of the two outcomes and $n$ is the number of samples. In our case $\\sqrt{0.8(1-0.8)/1000}$ gives a standard deviation of about 1%. So we can be pretty confident (but not certain) \n",
    "that the true percentage is somewhere between 77% and 86%.\n",
    "\n",
    "We could get better accuracy at the cost of increased computing time.  It took about half a second to do 1,000 simulations; to get the standard deviation down by a factor of 10 to 0.1% would require 100 times more computing time (because of the square root in the formula), about a minute. To get to 0.01% would require 100 minutes.  \n",
    "\n",
    "# Monte Carlo Simulation versus Exact Probability Calculation\n",
    "\n",
    "An alternative to the Monte Carlo approach is an approach that explicitly calculates the exact probability distribution of the final state of ther campaign. The differences between the two approaches are:\n",
    "\n",
    "- The **Monte Carlo approach** deals with a **single current state**, using random dice rolls to decide how that state changes. At the end of a simulated campaign we get a single final state, and we repeat the simulation to get an **estimated** probability distribution over final states.\n",
    "\n",
    "- The **exact probability calculation approach** deals with a **probability distribution over states**, right from the start. At each dice roll, every possible outcome is considered, and the probability distribution is updated to reflect all the outcomes and their probabilities. At the end of the campaign we have an **exact** probability distribution over all possible final states (well, exact at least to the limits of floating point precision; if you need even more precision, use `fractions.Fraction`).\n",
    "\n",
    "In deciding whether to use the exact calculation approach, there are three considerations:\n",
    "\n",
    "- **Is it worth the effort?** If I only wanted to know whether the attackers chance of winning is more or less than 50%, then the Monte Carlo approach is the quickest way to answer the question. The code will be simple and straightforward.  If I need 0.0001% precision on the win probability, then exact calculation is called for.\n",
    "- **Is it possible?** The exact calculation approach only works for **finite games**. \n",
    "- **Is it feasible?** Computation may take too long if there are too many possible states of the game.\n",
    "\n",
    "**Worth the effort?** In general, the code for an exact calculation is more complex than for a Monte Carlo simulation, and thus it will take more time to write and debug the code. Monte Carlo code deals with the single current state of the simulation, for example: \n",
    "\n",
    "     while not terminal(state):\n",
    "     \n",
    "But in the exact calculation we need to consider every possible states (referenced in a loop):\n",
    "\n",
    "    while any(not terminal(state) for state in probdist):\n",
    "    \n",
    "Adding all these loops to the code makes it more complex. After the shared basics of representing states and battle outcomes, we need just just 10 non-comment lines of code to implement the Monte Carlo method (in `simulate_campaign`, `monte_carlo`, and `random_roll`), but 22 lines to implement exact calculation (in `campaign_probdist`, `battle_deaths_probdist`, `battle_update_probdist`, and `all_rolls`).\n",
    "\n",
    "**Possible?** Imagine a *Risk* rule change where if the attackers roll three 6s and the defneders roll two 6s, then both sides *gain* an army. For the Monte Carlo simulation it would be trivial to add a single `if` statement to handle this rule, and the expected run time of the program would hardly change. But with the exact calculation everything has changed, because we now have an  **infinite** game: no matter how far ahead we look, there will always be some possible states that have not terminated. (To deal with these we would have to make some compromises, such as stopping the calculation when there are still some nonterminal states, as long as they have very low probability in total.)\n",
    "\n",
    "**Feasible?** Imagine a rule change where before each battle, every army independently has the option to take one of ten possible actions (e.g. to move to a safe neighboring territory). Then with 100 armies, the very first move has $10^{100}$ outcomes, meaning that the probability distribution requires more states than the number of atoms in the universe. (To deal with this we would either stick with the Monte Carlo simulation, or a variant of it such as [particle filtering](https://en.wikipedia.org/wiki/Particle_filter) in which we maintain a **sample** of several possible states–more than a single state, but less than the complete state distribution.)\n",
    "\n",
    " The *Risk* campaign problem as it stands leads to a very efficient exact probability calculation (possible, feasible, and, IMHO, worth it). If there are $n$ total armies to start, then there are fewer than $n^2$ possible states, and the game can last no more than $n$ moves. With $n$ in the range of a few hundred, computation takes less than a second; much faster and more accurate than doing 100,000 simulations."
   ]
  },
  {
   "cell_type": "markdown",
   "metadata": {},
   "source": [
    "# Exact Probability Distribution over a Battle\n",
    "\n",
    "The function `battle_deaths` was defined above to return the specific death counts for a specific dice roll. \n",
    "\n",
    "Now we'll define `battle_deaths_probdist` to give a probability distribution over all possible battle outcomes, corresponding to all possible dice rolls. The input to `battle_deaths_probdist` is a state giving the number of attacking and defending armies for just this one battle (*not* the total number of attacking and defending armies in the current state). Thus, the attackers will always be 3, 2, or 1, and the defenders will always be 2 or 1. I define it this way so that I can **cache** the results and reuse them in subsequent battles, for efficiency."
   ]
  },
  {
   "cell_type": "code",
   "execution_count": 18,
   "metadata": {},
   "outputs": [],
   "source": [
    "@lru_cache()\n",
    "def battle_deaths_probdist(state) -> ProbDist:\n",
    "    pass\n",
    "def all_rolls(n) -> Iterable[Dice]: \n",
    "    \"\"\"All possible rolls of `n` dice.\"\"\"\n",
    "    return itertools.product(die, repeat=n)"
   ]
  },
  {
   "cell_type": "code",
   "execution_count": 19,
   "metadata": {},
   "outputs": [
    {
     "data": {
      "text/plain": [
       "ProbDist({(2, 0): 0.2925668724279835,\n",
       "          (1, 1): 0.3357767489711934,\n",
       "          (0, 2): 0.37165637860082307})"
      ]
     },
     "execution_count": 19,
     "metadata": {},
     "output_type": "execute_result"
    }
   ],
   "source": [
    "battle_deaths_probdist((3, 2)) # Three attacker dice against two defender dice"
   ]
  },
  {
   "cell_type": "markdown",
   "metadata": {},
   "source": [
    "# Exact Probability Distribution over a Campaign\n",
    "\n",
    "Our old function `campaign` is mimiced by `campaign_probdist`, except that the former updates a `State` whereas the later updates a `ProbDist`. We start with certainty: there is a 100% chance that we are initially in the `start` state. But the [fog of war](https://en.wikipedia.org/wiki/Fog_of_war) means that uncertainty soon arises: we don't know how the dice will land, so we don't know the outcome of the very first battle. Subsequent battles add more uncertainty. \n",
    "\n",
    "`campaign_probdist` calls  `battle_update_probdist` to update the probability distribution to account for one battle, in all the possible ways it can turn out. The key line in `battle_update_probdist` is\n",
    "\n",
    "    outcomes[update(state, dead)] += probdist[state] * dead_probdist[dead]\n",
    "    \n",
    "which tells us to consider the outcome in which `dead` is the number of attackers and defenders that die in a battle, and to update `state` with those death counts, and increment the probability of that updated outcome by the product of the probability of `state` and the probability of `dead` given `state`."
   ]
  },
  {
   "cell_type": "code",
   "execution_count": 20,
   "metadata": {},
   "outputs": [],
   "source": [
    "def campaign_probdist(start: State) -> ProbDist:\n",
    "    pass\n",
    "def battle_update_probdist(probdist) -> ProbDist:\n",
    "    \"\"\"For every possible campaign state in the `probdist`, consider the outcomes of a battle. \n",
    "    Combine these all into one updated `outcomes` ProbDist.\"\"\"\n",
    "    outcomes = ProbDist()\n",
    "    for state in probdist:\n",
    "        if terminal(state): # `state` carries through unchanged to `outcomes`\n",
    "            outcomes[state] += probdist[state] \n",
    "        else: # Replace `state` with all possible outcomes from a battle\n",
    "            dead_probdist = battle_deaths_probdist((min(3, A(state) - 1), min(2, D(state))))\n",
    "            for dead in dead_probdist:\n",
    "                outcomes[update(state, dead)] += probdist[state] * dead_probdist[dead]\n",
    "    return outcomes"
   ]
  },
  {
   "cell_type": "markdown",
   "metadata": {},
   "source": [
    "# Finishing the Unfinished Game (Exactly)\n",
    "\n",
    "What is the exact probability of  winning the unfinished game?"
   ]
  },
  {
   "cell_type": "code",
   "execution_count": 21,
   "metadata": {},
   "outputs": [
    {
     "data": {
      "text/plain": [
       "0.8105485936352178"
      ]
     },
     "execution_count": 21,
     "metadata": {},
     "output_type": "execute_result"
    }
   ],
   "source": [
    "attacker_win_probability(campaign_probdist(start))"
   ]
  },
  {
   "cell_type": "markdown",
   "metadata": {},
   "source": [
    "The attackers defeat all the defenders 81.05% of the time. \n",
    "\n",
    "What are the 20 most common outcomes? "
   ]
  },
  {
   "cell_type": "code",
   "execution_count": 22,
   "metadata": {},
   "outputs": [
    {
     "data": {
      "text/plain": [
       "[((12,), 0.03824220182706657),\n",
       " ((11,), 0.0380992150215239),\n",
       " ((13,), 0.038032667992797725),\n",
       " ((10,), 0.037618411457469664),\n",
       " ((14,), 0.03746512036620402),\n",
       " ((9,), 0.036822601595588304),\n",
       " ((15,), 0.036544033638847624),\n",
       " ((8,), 0.035741340182918115),\n",
       " ((16,), 0.035284184613703425),\n",
       " ((7,), 0.03440940023374102),\n",
       " ((17,), 0.03371050842173721),\n",
       " ((6,), 0.03286517629527088),\n",
       " ((18,), 0.031857448871758426),\n",
       " ((5,), 0.031149102741286083),\n",
       " ((19,), 0.029767807751056283),\n",
       " ((4,), 0.029302161098148583),\n",
       " ((20,), 0.027491133463900305),\n",
       " ((3,), 0.0273645356924103),\n",
       " ((1, 5, 1), 0.026621109937678585),\n",
       " ((1, 1), 0.025661022694069335)]"
      ]
     },
     "execution_count": 22,
     "metadata": {},
     "output_type": "execute_result"
    }
   ],
   "source": [
    "campaign_probdist(start).most_common(20)"
   ]
  },
  {
   "cell_type": "markdown",
   "metadata": {},
   "source": [
    "The most probable outcome is that the attackers win with 12 remaining armies. The top 10 outcomes have anywhere from 7 to 16 attackers remaining. You have to go down to the 19th most common outcome to find one where the defenders win."
   ]
  },
  {
   "cell_type": "markdown",
   "metadata": {},
   "source": [
    "# Analyzing and Visualizing Campaigns\n",
    "\n",
    "Let's try to visualize all the possible outcomes. I'll define the **score** of a campaign as the number of attacker armies in the final territory minus the total number of defenders, minus the number of territories that the defenders hold. This score will be positive when the attackers win and negative when they lose. A score cannot be zero (the closest is that there could be one attacker and one defender left, in which case there can be no more attacks, but the score would be -1, because the defenders have one army and one territory). The function `show` plots a histogram of scores probabilities:"
   ]
  },
  {
   "cell_type": "code",
   "execution_count": 23,
   "metadata": {},
   "outputs": [],
   "source": [
    "def show(probdist, epsilon=0.0002):\n",
    "    pass\n",
    "def score(state): return A(state) - sum(allD(state)) - len(allD(state))"
   ]
  },
  {
   "cell_type": "code",
   "execution_count": 24,
   "metadata": {},
   "outputs": [
    {
     "data": {
      "image/png": "[encoded data removed]",
      "text/plain": [
       "<Figure size 720x360 with 1 Axes>"
      ]
     },
     "metadata": {
      "needs_background": "light"
     },
     "output_type": "display_data"
    }
   ],
   "source": [
    "show(campaign_probdist(start))"
   ]
  },
  {
   "cell_type": "markdown",
   "metadata": {},
   "source": [
    "**Interesting!** To the right of 0, we see a nice  bell-shaped curve. But there is a decidely non-normal pattern on the left side. There are gaps—scores for which the probability is zero—and there are spikes that rise above the normal curve. \n",
    "\n",
    "What's causing the gaps? We know that a campaign score can never be 0. And in this campaign, no score can be -2, because a -2 can only be achieved with the final state `(1, 2)`:  one attacker and two defenders in a single territory; this campaign has only one defender in the final territory, so `(1, 2)` could never occur. Looking at the plot, we see gaps surrounding groups of bars, where the group sizes, reading left to right, are 1, 1, 3, 1, 2, 3, 5, and 1. These are exactly the number of defenders in the final 8 territories, so the gaps are indicating the impossible scores.\n",
    "\n",
    "What's causing the spikes? To some extent they represent probability mass that has shifted over a place from the impossible states to the neighboring possible states. But the spikes are not quite tall enough to fill in the gaps. I admit I don't understand the exact shape of each spike–do you?\n",
    "\n",
    "In the plot below  all the defenders are in a single territory, and there is no visible gap–the normalish shape is restored. However, there is something going on with odd-versus-even scores. I believe that part of what is happening is that all but the very last few battles will be 3-versus-2 battles, and thus will result in 2 casualties, preserving the parity of the total number of armies. The parity is broken only in the final battles. But I don't think that's the full story—what do you think?"
   ]
  },
  {
   "cell_type": "code",
   "execution_count": 25,
   "metadata": {},
   "outputs": [
    {
     "data": {
      "image/png": "[encoded data removed]",
      "text/plain": [
       "<Figure size 720x360 with 1 Axes>"
      ]
     },
     "metadata": {
      "needs_background": "light"
     },
     "output_type": "display_data"
    }
   ],
   "source": [
    "show(campaign_probdist((146, 100)))"
   ]
  },
  {
   "cell_type": "markdown",
   "metadata": {},
   "source": [
    "The odd-even disparity can be lessened by adding a few territories where there will not be 3-versus-2 battles. The result is a very smooth curve, although not quite normal—it is clearly a bit fatter on the left than the right (the mean is 60 and the probability of 20 is greater than the probability of 100."
   ]
  },
  {
   "cell_type": "code",
   "execution_count": 26,
   "metadata": {},
   "outputs": [
    {
     "data": {
      "image/png": "[encoded data removed]",
      "text/plain": [
       "<Figure size 720x360 with 1 Axes>"
      ]
     },
     "metadata": {
      "needs_background": "light"
     },
     "output_type": "display_data"
    }
   ],
   "source": [
    "show(campaign_probdist((146, 93, 1, 1, 1, 1)))"
   ]
  },
  {
   "cell_type": "markdown",
   "metadata": {},
   "source": [
    "# Analyzing Single-Territory Attacks\n",
    "\n",
    "I want to analyze a simpler situation: With *A* attackers and *D* defenders in a single territory, what is the probability the attackers win?  \n",
    "\n",
    "I will make a chart with the number of defenders varying from 1 to 60, and with the number of attackers separated into eight cases (depicted as eight lines), where in each case there are Δ more attackers than defenders:"
   ]
  },
  {
   "cell_type": "code",
   "execution_count": 27,
   "metadata": {},
   "outputs": [],
   "source": [
    "def chart(defenders=range(1, 61), deltas=(9, 5, 2, 1, 0, -1, -2, -5)):\n",
    "    \"\"\"Plot win probability for various numbers of defenders and Δ more attackers.\"\"\"\n",
    "    plt.figure(figsize=(10, 5)); plt.grid()\n",
    "    plt.title('Each line: attackers with Δ more armies than defenders')\n",
    "    plt.xlabel('Number of Defenders'); plt.ylabel('Win Probability for Attackers')\n",
    "    plt.yticks([i / 10 for i in range(11)]); plt.xticks(range(0, 61, 5))\n",
    "    for delta in deltas:\n",
    "        winprobs = [attacker_win_probability(campaign_probdist((max(0, d + delta), d))) \n",
    "                    for d in defenders]\n",
    "        plt.plot(defenders, winprobs, 'o-', label=f'Δ = {delta:2}')\n",
    "    plt.legend(shadow=True)"
   ]
  },
  {
   "cell_type": "code",
   "execution_count": 28,
   "metadata": {},
   "outputs": [
    {
     "data": {
      "image/png": "[encoded data removed]",
      "text/plain": [
       "<Figure size 720x360 with 1 Axes>"
      ]
     },
     "metadata": {
      "needs_background": "light"
     },
     "output_type": "display_data"
    }
   ],
   "source": [
    "chart()"
   ]
  },
  {
   "cell_type": "markdown",
   "metadata": {},
   "source": [
    "Note that the purple line (fourth from bottom), where the number of attackers exactly equals the number of defenders, gives a low win probability for a small attacking force, but reaches 50% for 12-on-12, and 73% for 60-on-60. The red line, where the attackers have one more army than the defenders, dips from one to two defenders but is over 50% for a 6-on-5 attack. Similarly, the green line, where the attackers have a surplus of two armies, dips sharply from 75% to 66% as the number of defenders goes from 1 to 2, dips slightly more for 3 and 4 defenders, and then starts to rise. So overall, an attacker does not need a big advantage in armies as long as there are many armies on both sides. Even when the attacker is at a disadvantage in numbers (as in the bottom grey line where the attacker has five fewer armies), the attacker still has bettern than 50/50 odds with 45 attackers or more."
   ]
  },
  {
   "cell_type": "markdown",
   "metadata": {},
   "source": [
    "# Tests\n",
    "\n",
    "Here are regression unit tests that also serve as examples of usage."
   ]
  },
  {
   "cell_type": "code",
   "execution_count": 29,
   "metadata": {},
   "outputs": [
    {
     "data": {
      "text/plain": [
       "True"
      ]
     },
     "execution_count": 29,
     "metadata": {},
     "output_type": "execute_result"
    }
   ],
   "source": [
    "# Tests for States\n",
    "assert A(start)  == 72\n",
    "assert D(start)  == 22 \n",
    "assert allD(start) == (22, 8, 2, 2, 2, 7, 1, 1, 3, 1, 2, 3, 5, 1)\n",
    "assert sum(allD(start)) == 60 \n",
    "assert len(allD(start)) == 14\n",
    "\n",
    "# Tests for update\n",
    "small = State((10, 2, 5)) # Small example where 10 attackers battle 2, then 5 dfenders\n",
    "assert update(small, (0, 2)) == (9, 5)    # 2 defenders dead; occupy the first territory\n",
    "assert update(small, (1, 1)) == (9, 1, 5) # continue to battle\n",
    "assert update(small, (2, 0)) == (8, 2, 5) # continue to battle\n",
    "assert update(start, (1, 1)) == (71, 21, 8, 2, 2, 2, 7, 1, 1, 3, 1, 2, 3, 5, 1)\n",
    "assert update((9, 2), (0, 2)) == (8,) # Attackers occupied the final territory\n",
    "\n",
    "# The 4 sample dice rolls from www.ultraboardgames.com/risk/game-rules.php\n",
    "assert battle_deaths([1, 1, 6], [3,])   == (0, 1) # Defender loses one\n",
    "assert battle_deaths([2, 6, 1], [2, 3]) == (1, 1) # Both lose one\n",
    "assert battle_deaths([3, 3],    [3, 4]) == (2, 0) # Attacker loses two\n",
    "assert battle_deaths([6,],      [5, 4]) == (0, 1) # Defender loses one\n",
    "\n",
    "# All six possible battle dice combinations. The answers match those given at\n",
    "# a Risk data analysis blog: http://datagenetics.com/blog/november22011/\n",
    "assert battle_deaths_probdist((1, 1)) == ProbDist({(1, 0):   21, (0, 1):   15})\n",
    "assert battle_deaths_probdist((2, 1)) == ProbDist({(1, 0):   91, (0, 1):  125})\n",
    "assert battle_deaths_probdist((3, 1)) == ProbDist({(1, 0):  441, (0, 1):  855})\n",
    "assert battle_deaths_probdist((1, 2)) == ProbDist({(1, 0):  161, (0, 1):   55})\n",
    "assert battle_deaths_probdist((2, 2)) == ProbDist({(2, 0):  581, (1, 1):  420, (0, 2):  295})\n",
    "assert battle_deaths_probdist((3, 2)) == ProbDist({(2, 0): 2275, (1, 1): 2611, (0, 2): 2890})\n",
    "\n",
    "assert set(all_rolls(2)) == {(1, 1), (1, 2), (1, 3), (1, 4), (1, 5), (1, 6), \n",
    "                         (2, 1), (2, 2), (2, 3), (2, 4), (2, 5), (2, 6), \n",
    "                         (3, 1), (3, 2), (3, 3), (3, 4), (3, 5), (3, 6), \n",
    "                         (4, 1), (4, 2), (4, 3), (4, 4), (4, 5), (4, 6), \n",
    "                         (5, 1), (5, 2), (5, 3), (5, 4), (5, 5), (5, 6), \n",
    "                         (6, 1), (6, 2), (6, 3), (6, 4), (6, 5), (6, 6)}\n",
    "\n",
    "assert attacker_win_probability(campaign_probdist((2, 1))) == 15/36\n",
    "assert campaign_probdist((2, 1)) == ProbDist({(1, 1): 21/36, (1,): 15/36})\n",
    "assert campaign_probdist((4, 2, 1)) == ProbDist(\n",
    "    {(1, 2, 1): 0.21807067805974698,\n",
    "     (1, 1, 1): 0.12597532213712342,\n",
    "     (1, 1): 0.294669783648961,\n",
    "     (1,): 0.14620529335276633,\n",
    "     (2,): 0.21507892280140226})\n",
    "\n",
    "assert battle_update_probdist(ProbDist({start: 1})) == ProbDist(\n",
    "    {(70, 22, 8, 2, 2, 2, 7, 1, 1, 3, 1, 2, 3, 5, 1): 0.2925668724279835,\n",
    "     (71, 21, 8, 2, 2, 2, 7, 1, 1, 3, 1, 2, 3, 5, 1): 0.3357767489711934,\n",
    "     (72, 20, 8, 2, 2, 2, 7, 1, 1, 3, 1, 2, 3, 5, 1): 0.37165637860082307})\n",
    "\n",
    "True"
   ]
  }
 ],
 "metadata": {
  "kernelspec": {
   "display_name": "Python 3",
   "language": "python",
   "name": "python3"
  },
  "language_info": {
   "codemirror_mode": {
    "name": "ipython",
    "version": 3
   },
   "file_extension": ".py",
   "mimetype": "text/x-python",
   "name": "python",
   "nbconvert_exporter": "python",
   "pygments_lexer": "ipython3",
   "version": "3.7.7"
  }
 },
 "nbformat": 4,
 "nbformat_minor": 4
}
